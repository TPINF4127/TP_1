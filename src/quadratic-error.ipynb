{
 "cells": [
  {
   "cell_type": "markdown",
   "id": "262e08f7",
   "metadata": {},
   "source": [
    "**Produit par Duplesse Nangmo**"
   ]
  },
  {
   "cell_type": "code",
   "execution_count": 1,
   "id": "c32c4090",
   "metadata": {},
   "outputs": [
    {
     "name": "stdout",
     "output_type": "stream",
     "text": [
      "MSE : (y - y_hat)**2\n",
      "Gradient de la MSE : -2*y + 2*y_hat\n"
     ]
    }
   ],
   "source": [
    "import sympy as sp\n",
    "\n",
    "# Définition des variables symboliques\n",
    "y, y_hat = sp.symbols('y y_hat')\n",
    "\n",
    "# Fonction de perte MSE pour une seule observation\n",
    "MSE = (y - y_hat)**2\n",
    "\n",
    "# Calcul du gradient par rapport à y_hat\n",
    "grad_MSE = sp.diff(MSE, y_hat)\n",
    "\n",
    "print(\"MSE :\", MSE)\n",
    "print(\"Gradient de la MSE :\", grad_MSE)\n"
   ]
  },
  {
   "cell_type": "markdown",
   "id": "d8c7d541",
   "metadata": {},
   "source": [
    "Etape 2 : convexite"
   ]
  },
  {
   "cell_type": "code",
   "execution_count": 2,
   "id": "1fcc2b0a",
   "metadata": {},
   "outputs": [
    {
     "name": "stdout",
     "output_type": "stream",
     "text": [
      "Dérivée seconde : 2\n"
     ]
    }
   ],
   "source": [
    "# Dérivée seconde pour vérifier convexité\n",
    "second_derivative = sp.diff(MSE, y_hat, 2)\n",
    "print(\"Dérivée seconde :\", second_derivative)\n"
   ]
  },
  {
   "cell_type": "markdown",
   "id": "480aa274",
   "metadata": {},
   "source": [
    "Si la dérivée seconde > 0 pour tout Y_hat, la fonction est convexe.\n",
    "\n",
    "Ici, 2 > 0 → MSE est convexe partout."
   ]
  },
  {
   "cell_type": "code",
   "execution_count": null,
   "id": "590a5596",
   "metadata": {},
   "outputs": [],
   "source": []
  }
 ],
 "metadata": {
  "kernelspec": {
   "display_name": "Python 3",
   "language": "python",
   "name": "python3"
  },
  "language_info": {
   "codemirror_mode": {
    "name": "ipython",
    "version": 3
   },
   "file_extension": ".py",
   "mimetype": "text/x-python",
   "name": "python",
   "nbconvert_exporter": "python",
   "pygments_lexer": "ipython3",
   "version": "3.13.7"
  }
 },
 "nbformat": 4,
 "nbformat_minor": 5
}
